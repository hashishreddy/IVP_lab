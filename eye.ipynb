{
 "cells": [
  {
   "cell_type": "code",
   "execution_count": 1,
   "metadata": {},
   "outputs": [
    {
     "name": "stderr",
     "output_type": "stream",
     "text": [
      "WARNING: All log messages before absl::InitializeLog() is called are written to STDERR\n",
      "I0000 00:00:1741194581.370894 4069739 gl_context.cc:369] GL version: 2.1 (2.1 Metal - 89.3), renderer: Apple M2\n",
      "INFO: Created TensorFlow Lite XNNPACK delegate for CPU.\n",
      "W0000 00:00:1741194581.373179 4069852 inference_feedback_manager.cc:114] Feedback manager requires a model with a single signature inference. Disabling support for feedback tensors.\n",
      "W0000 00:00:1741194581.377190 4069852 inference_feedback_manager.cc:114] Feedback manager requires a model with a single signature inference. Disabling support for feedback tensors.\n",
      "W0000 00:00:1741194581.456829 4069850 landmark_projection_calculator.cc:186] Using NORM_RECT without IMAGE_DIMENSIONS is only supported for the square ROI. Provide IMAGE_DIMENSIONS or use PROJECTION_MATRIX.\n",
      "2025-03-05 22:39:41.871 Python[21676:4069739] +[IMKClient subclass]: chose IMKClient_Modern\n",
      "2025-03-05 22:39:41.871 Python[21676:4069739] +[IMKInputSession subclass]: chose IMKInputSession_Modern\n"
     ]
    }
   ],
   "source": [
    "import cv2 as cv\n",
    "from cvzone.FaceMeshModule import FaceMeshDetector\n",
    "\n",
    "# Initialize Face Mesh Detector\n",
    "fm = FaceMeshDetector()\n",
    "\n",
    "# Load the image\n",
    "image_path = \"/Users/hashishreddy/Desktop/ivp lab/human.jpg\"\n",
    "frame = cv.imread(image_path)\n",
    "\n",
    "# Check if the image was loaded properly\n",
    "if frame is None:\n",
    "    print(\"Error: Could not load the image. Check the file path.\")\n",
    "    exit()\n",
    "\n",
    "# Define eye landmark indices\n",
    "rightEye = [463, 414, 286, 258, 257, 259, 260, 467, 359, 255, 339, 254, 253, 252, 256, 341]\n",
    "leftEye = [130, 247, 30, 29, 27, 28, 56, 190, 243, 112, 26, 22, 23, 24, 110, 25]\n",
    "\n",
    "# Detect face mesh\n",
    "frame, faces = fm.findFaceMesh(frame, draw=False)\n",
    "\n",
    "if faces:\n",
    "    all_marks = faces[0]\n",
    "\n",
    "    def draw_eye_rectangle(eye_indices, color):\n",
    "        x_coords = [int(all_marks[i][0]) for i in eye_indices]\n",
    "        y_coords = [int(all_marks[i][1]) for i in eye_indices]\n",
    "\n",
    "        x_min, x_max = min(x_coords), max(x_coords)\n",
    "        y_min, y_max = min(y_coords), max(y_coords)\n",
    "\n",
    "        cv.rectangle(frame, (x_min, y_min), (x_max, y_max), color, 2)\n",
    "\n",
    "    # Draw rectangles around eyes\n",
    "    draw_eye_rectangle(rightEye, (0, 0, 255))  # Red rectangle for the right eye\n",
    "    draw_eye_rectangle(leftEye, (0, 0, 255))   # Red rectangle for the left eye\n",
    "\n",
    "    # Display the result\n",
    "    cv.imshow('Face Mesh', frame)\n",
    "    cv.waitKey(0)\n",
    "    cv.destroyAllWindows()\n",
    "else:\n",
    "    print(\"No face detected.\")\n"
   ]
  }
 ],
 "metadata": {
  "kernelspec": {
   "display_name": "Python 3",
   "language": "python",
   "name": "python3"
  },
  "language_info": {
   "codemirror_mode": {
    "name": "ipython",
    "version": 3
   },
   "file_extension": ".py",
   "mimetype": "text/x-python",
   "name": "python",
   "nbconvert_exporter": "python",
   "pygments_lexer": "ipython3",
   "version": "3.12.6"
  }
 },
 "nbformat": 4,
 "nbformat_minor": 2
}
